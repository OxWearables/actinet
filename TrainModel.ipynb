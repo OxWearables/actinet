{
 "cells": [
  {
   "cell_type": "markdown",
   "metadata": {},
   "source": [
    "# End-to-end training of ActiNet model using Capture-24\n",
    "\n",
    "This notebook shows how to fine-tune the final layer of the modified self-supervised ResNet-18 model on the Capture-24 dataset for the Walsmley label annotations."
   ]
  },
  {
   "cell_type": "code",
   "execution_count": null,
   "metadata": {},
   "outputs": [],
   "source": [
    "import numpy as np\n",
    "import joblib\n",
    "import urllib\n",
    "import os\n",
    "from tqdm.auto import tqdm\n",
    "import zipfile\n",
    "from glob import glob\n",
    "import sys\n",
    "from datetime import datetime\n",
    "import hashlib\n",
    "\n",
    "sys.path.append(\"src\")\n",
    "from actinet.actinet import read\n",
    "from actinet.accPlot import plotTimeSeries\n",
    "from actinet.models import ActivityClassifier\n",
    "from actinet.prepare import load_all_and_make_windows\n",
    "\n",
    "WINSEC = 30 # seconds\n",
    "SAMPLE_RATE = 100 # Hz\n",
    "N_JOBS = 8 # Set to higher number for quicker execution, but don't exceed max."
   ]
  },
  {
   "cell_type": "markdown",
   "metadata": {},
   "source": [
    "First we download and unzip the Capture-24 dataset. "
   ]
  },
  {
   "cell_type": "code",
   "execution_count": null,
   "metadata": {},
   "outputs": [],
   "source": [
    "os.makedirs(\"data\", exist_ok=True)\n",
    "capture24_path = \"data/capture24.zip\"\n",
    "\n",
    "if not os.path.exists(capture24_path):\n",
    "    url = \"https://ora.ox.ac.uk/objects/uuid:99d7c092-d865-4a19-b096-cc16440cd001/files/rpr76f381b\"\n",
    "\n",
    "    with tqdm(unit='B', unit_scale=True, desc='Downloading Capture-24: ',\n",
    "            unit_divisor=1024, miniters=1, ascii=True, total=6900000000) as pbar:\n",
    "        urllib.request.urlretrieve(url, filename=capture24_path, \n",
    "                                   reporthook=lambda b, bsize, tsize: pbar.update(bsize))\n",
    "\n",
    "    with zipfile.ZipFile(capture24_path, \"r\") as f:\n",
    "        for member in tqdm(f.namelist(), desc=\"Unzipping: \"):\n",
    "            try:\n",
    "                f.extract(member, \"data\")\n",
    "            except zipfile.error:\n",
    "                pass"
   ]
  },
  {
   "cell_type": "markdown",
   "metadata": {},
   "source": [
    "We then break the data into the expected shape of WINSEC windows and specified labels."
   ]
  },
  {
   "cell_type": "code",
   "execution_count": null,
   "metadata": {},
   "outputs": [],
   "source": [
    "DATAFILES = f\"data/capture24/P[0-9][0-9][0-9].csv.gz\"\n",
    "ANNOFILE = f\"data/capture24/annotation-label-dictionary.csv\"\n",
    "SAVEFOLDER = f\"data/capture24/{WINSEC}s\"\n",
    "\n",
    "if len(glob(f\"{SAVEFOLDER}/*.npy\")) == 4:\n",
    "    X = np.load(f\"{SAVEFOLDER}/X.npy\")\n",
    "    Y = np.load(f\"{SAVEFOLDER}/Y.npy\")\n",
    "    T = np.load(f\"{SAVEFOLDER}/T.npy\")\n",
    "    pid = np.load(f\"{SAVEFOLDER}/pid.npy\")\n",
    "\n",
    "else:\n",
    "    X, Y, T, pid = load_all_and_make_windows(\n",
    "        datafiles=glob(DATAFILES),\n",
    "        annofile=ANNOFILE, \n",
    "        out_dir=SAVEFOLDER, \n",
    "        anno_label=\"Walmsley2020\", # Choose between WillettsSpecific2018, WillettsMET2018, DohertySpecific2018,...\n",
    "        sample_rate=SAMPLE_RATE,\n",
    "        winsec=WINSEC,\n",
    "        n_jobs=N_JOBS,\n",
    "    )"
   ]
  },
  {
   "cell_type": "markdown",
   "metadata": {},
   "source": [
    "We now initialise the Activity Classifier, with appropriate properties for training."
   ]
  },
  {
   "cell_type": "code",
   "execution_count": null,
   "metadata": {},
   "outputs": [],
   "source": [
    "classifier = ActivityClassifier(\n",
    "    labels = np.unique(Y),\n",
    "    batch_size=1000,\n",
    "    device=\"cuda:0\",\n",
    "    window_sec=WINSEC,\n",
    "    verbose=True\n",
    ")\n",
    "\n",
    "print(classifier)"
   ]
  },
  {
   "cell_type": "markdown",
   "metadata": {},
   "source": [
    "We optionally subset the data, to smoke test"
   ]
  },
  {
   "cell_type": "code",
   "execution_count": null,
   "metadata": {},
   "outputs": [],
   "source": [
    "def subset_data(X, Y, pid, T, n_samples=1000, n_participants=20):\n",
    "    np.random.seed(42)\n",
    "\n",
    "    if n_participants is not None:\n",
    "        pids = np.random.choice(np.unique(pid), n_participants, replace=False)\n",
    "        idx = np.isin(pid, pids)\n",
    "\n",
    "        X, Y, pid, T = X[idx], Y[idx], pid[idx], T[idx]\n",
    "    \n",
    "    if n_samples is not None:\n",
    "        idx = np.random.choice(len(X), n_samples, replace=False)\n",
    "        X, Y, pid, T = X[idx], Y[idx], pid[idx], T[idx]\n",
    "    \n",
    "    return X, Y, pid, T\n",
    "\n",
    "# X, Y, pid, T = subset_data(X, Y, pid, T, None, 10)"
   ]
  },
  {
   "cell_type": "markdown",
   "metadata": {},
   "source": [
    "We call the fit function to train the classifier on the training data. This will save the best weights at the provided location during the training folds."
   ]
  },
  {
   "cell_type": "code",
   "execution_count": null,
   "metadata": {},
   "outputs": [],
   "source": [
    "classifier_save_path = f\"models/c24_rw_{WINSEC}s_{datetime.now().strftime('%Y%m%d')}.pt\"\n",
    "classifier.fit(X, Y, pid, T, True, classifier_save_path, n_splits=1)"
   ]
  },
  {
   "cell_type": "markdown",
   "metadata": {},
   "source": [
    "We now need to save the classifier as a .lzma file, that is uploaded to the internet for external use."
   ]
  },
  {
   "cell_type": "code",
   "execution_count": null,
   "metadata": {},
   "outputs": [],
   "source": [
    "classifier_file_name = f\"models/ssl-ukb-c24-rw-{WINSEC}s-{datetime.now().strftime('%Y%m%d')}.joblib.lzma\""
   ]
  },
  {
   "cell_type": "code",
   "execution_count": null,
   "metadata": {},
   "outputs": [],
   "source": [
    "classifier.save(classifier_file_name)"
   ]
  },
  {
   "cell_type": "markdown",
   "metadata": {},
   "source": [
    "We load the saved classifier to ensure the expected behaviour"
   ]
  },
  {
   "cell_type": "code",
   "execution_count": null,
   "metadata": {},
   "outputs": [],
   "source": [
    "loaded_classifier: ActivityClassifier = joblib.load(classifier_file_name)\n",
    "\n",
    "print(loaded_classifier)"
   ]
  },
  {
   "cell_type": "markdown",
   "metadata": {},
   "source": [
    "Note that model has not been loaded, however does have best weights dictionary saved."
   ]
  },
  {
   "cell_type": "markdown",
   "metadata": {},
   "source": [
    "We can load the model. When not specified, the model will load the ssl repository from github/cache."
   ]
  },
  {
   "cell_type": "code",
   "execution_count": null,
   "metadata": {},
   "outputs": [],
   "source": [
    "loaded_classifier.load_model()"
   ]
  },
  {
   "cell_type": "markdown",
   "metadata": {},
   "source": [
    "Now we can confirm that the model has been loaded, and is ready to predict activity labels."
   ]
  },
  {
   "cell_type": "code",
   "execution_count": null,
   "metadata": {},
   "outputs": [],
   "source": [
    "print(loaded_classifier)"
   ]
  },
  {
   "cell_type": "code",
   "execution_count": null,
   "metadata": {},
   "outputs": [],
   "source": [
    "# Note ordering is sleep, sedentary, light, MVPA\n",
    "loaded_classifier.hmm.display(precision=3)"
   ]
  },
  {
   "cell_type": "markdown",
   "metadata": {},
   "source": [
    "This is useful function to get the md5 hash for the classifier file."
   ]
  },
  {
   "cell_type": "code",
   "execution_count": null,
   "metadata": {},
   "outputs": [],
   "source": [
    "hashlib.md5(open(classifier_file_name,'rb').read()).hexdigest()"
   ]
  },
  {
   "cell_type": "code",
   "execution_count": null,
   "metadata": {},
   "outputs": [],
   "source": [
    "data, info = read(\"data/sample.cwa.gz\", resample_hz=None, verbose=True)"
   ]
  },
  {
   "cell_type": "code",
   "execution_count": null,
   "metadata": {},
   "outputs": [],
   "source": [
    "y = loaded_classifier.predict_from_frame(data, 100, True)"
   ]
  },
  {
   "cell_type": "code",
   "execution_count": null,
   "metadata": {},
   "outputs": [],
   "source": [
    "p = plotTimeSeries(y)"
   ]
  },
  {
   "cell_type": "code",
   "execution_count": null,
   "metadata": {},
   "outputs": [],
   "source": []
  }
 ],
 "metadata": {
  "kernelspec": {
   "display_name": "actinet",
   "language": "python",
   "name": "python3"
  },
  "language_info": {
   "codemirror_mode": {
    "name": "ipython",
    "version": 3
   },
   "file_extension": ".py",
   "mimetype": "text/x-python",
   "name": "python",
   "nbconvert_exporter": "python",
   "pygments_lexer": "ipython3",
   "version": "3.9.18"
  }
 },
 "nbformat": 4,
 "nbformat_minor": 2
}
