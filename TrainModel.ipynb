{
 "cells": [
  {
   "cell_type": "markdown",
   "metadata": {},
   "source": [
    "# End-to-end training of Actinet model using Capture-24\n",
    "\n",
    "This notebook fine tures the final layers of a self-supervised Resnet18 on the Capture-24 dataset for the Walsmley label annotations."
   ]
  },
  {
   "cell_type": "code",
   "execution_count": 1,
   "metadata": {},
   "outputs": [],
   "source": [
    "import numpy as np\n",
    "import joblib\n",
    "import urllib\n",
    "import os\n",
    "from tqdm.auto import tqdm\n",
    "import zipfile\n",
    "from glob import glob\n",
    "import sys\n",
    "from datetime import datetime\n",
    "import hashlib\n",
    "\n",
    "sys.path.append(\"src\")\n",
    "from actinet.models import ActivityClassifier\n",
    "from actinet.prepare import load_all_and_make_windows\n",
    "\n",
    "WINSEC = 30 # seconds\n",
    "SAMPLE_RATE = 100 # Hz\n",
    "N_JOBS = 8 # Set to higher number for quicker execution, but don't exceed max."
   ]
  },
  {
   "cell_type": "markdown",
   "metadata": {},
   "source": [
    "First we download and unzip the Capture-24 dataset. "
   ]
  },
  {
   "cell_type": "code",
   "execution_count": 2,
   "metadata": {},
   "outputs": [],
   "source": [
    "os.makedirs(\"data\", exist_ok=True)\n",
    "capture24_path = \"data/capture24.zip\"\n",
    "\n",
    "if not os.path.exists(capture24_path):\n",
    "    url = \"https://ora.ox.ac.uk/objects/uuid:99d7c092-d865-4a19-b096-cc16440cd001/files/rpr76f381b\"\n",
    "\n",
    "    with tqdm(unit='B', unit_scale=True, desc='Downloading Capture-24: ',\n",
    "            unit_divisor=1024, miniters=1, ascii=True, total=6900000000) as pbar:\n",
    "        urllib.request.urlretrieve(url, filename=capture24_path, \n",
    "                                   reporthook=lambda b, bsize, tsize: pbar.update(bsize))\n",
    "\n",
    "    with zipfile.ZipFile(capture24_path, \"r\") as f:\n",
    "        for member in tqdm(f.namelist(), desc=\"Unzipping: \"):\n",
    "            try:\n",
    "                f.extract(member, \"data\")\n",
    "            except zipfile.error:\n",
    "                pass"
   ]
  },
  {
   "cell_type": "markdown",
   "metadata": {},
   "source": [
    "We then break the data into the expected shape of WINSEC windows and specified labels."
   ]
  },
  {
   "cell_type": "code",
   "execution_count": 3,
   "metadata": {},
   "outputs": [],
   "source": [
    "DATAFILES = f\"data/capture24/P[0-9][0-9][0-9].csv.gz\"\n",
    "ANNOFILE = f\"data/capture24/annotation-label-dictionary.csv\"\n",
    "SAVEFOLDER = f\"data/capture24/{WINSEC}s\"\n",
    "\n",
    "if len(glob(f\"{SAVEFOLDER}/*.npy\")) == 4:\n",
    "    X = np.load(f\"{SAVEFOLDER}/X.npy\")\n",
    "    Y = np.load(f\"{SAVEFOLDER}/Y.npy\")\n",
    "    T = np.load(f\"{SAVEFOLDER}/T.npy\")\n",
    "    pid = np.load(f\"{SAVEFOLDER}/pid.npy\")\n",
    "\n",
    "else:\n",
    "    X, Y, T, pid = load_all_and_make_windows(\n",
    "        datafiles=glob(DATAFILES), \n",
    "        annofile=ANNOFILE, \n",
    "        out_dir=SAVEFOLDER, \n",
    "        anno_label=\"Walmsley2020\", # Choose between WillettsSpecific2018, WillettsMET2018, DohertySpecific2018,...\n",
    "        sample_rate=SAMPLE_RATE,\n",
    "        winsec=WINSEC,\n",
    "        n_jobs=N_JOBS,\n",
    "    )"
   ]
  },
  {
   "cell_type": "markdown",
   "metadata": {},
   "source": [
    "We now initialise the Activity Classifier, with appropriate properties for training."
   ]
  },
  {
   "cell_type": "code",
   "execution_count": 4,
   "metadata": {},
   "outputs": [
    {
     "name": "stdout",
     "output_type": "stream",
     "text": [
      "Activity Classifier\n",
      "class_labels: ['light' 'moderate-vigorous' 'sedentary' 'sleep']\n",
      "window_length: 30\n",
      "batch_size: 1000\n",
      "device: cuda:0\n",
      "hmm: Hidden Markov Model\n",
      "prior: None\n",
      "emission: None\n",
      "transition: None\n",
      "labels: None\n",
      "model: Model has not been loaded.\n"
     ]
    }
   ],
   "source": [
    "classifier = ActivityClassifier(\n",
    "    labels = np.unique(Y),\n",
    "    batch_size=1000,\n",
    "    device=\"cuda:0\",\n",
    "    verbose=True\n",
    ")\n",
    "\n",
    "print(classifier)"
   ]
  },
  {
   "cell_type": "markdown",
   "metadata": {},
   "source": [
    "We call the fit function to train the classifier on the training data. This will save the best weights at the provided location during the training folds."
   ]
  },
  {
   "cell_type": "code",
   "execution_count": 5,
   "metadata": {},
   "outputs": [
    {
     "name": "stdout",
     "output_type": "stream",
     "text": [
      "Training SSL\n",
      "Using local c:\\Users\\AidenA\\Documents\\Projects\\actinet\\src\\actinet\\torch_hub_cache\\OxWearables_ssl-wearables_v1.0.0\n",
      "131 Weights loaded\n"
     ]
    },
    {
     "name": "stderr",
     "output_type": "stream",
     "text": [
      "100%|██████████| 253/253 [03:18<00:00,  1.28it/s]\n"
     ]
    },
    {
     "name": "stdout",
     "output_type": "stream",
     "text": [
      "Validation loss decreased (inf --> 0.469236). Saving model ...\n",
      "[  0/100] | train_loss: 0.650 | train_acc: 0.836 | val_loss: 0.469 | val_acc: 0.83\n"
     ]
    },
    {
     "name": "stderr",
     "output_type": "stream",
     "text": [
      "100%|██████████| 253/253 [03:04<00:00,  1.37it/s]\n"
     ]
    },
    {
     "name": "stdout",
     "output_type": "stream",
     "text": [
      "Validation loss decreased (0.469236 --> 0.460606). Saving model ...\n",
      "[  1/100] | train_loss: 0.381 | train_acc: 0.870 | val_loss: 0.461 | val_acc: 0.83\n"
     ]
    },
    {
     "name": "stderr",
     "output_type": "stream",
     "text": [
      "100%|██████████| 253/253 [03:04<00:00,  1.37it/s]\n"
     ]
    },
    {
     "name": "stdout",
     "output_type": "stream",
     "text": [
      "Validation loss decreased (0.460606 --> 0.437871). Saving model ...\n",
      "[  2/100] | train_loss: 0.358 | train_acc: 0.876 | val_loss: 0.438 | val_acc: 0.84\n"
     ]
    },
    {
     "name": "stderr",
     "output_type": "stream",
     "text": [
      "100%|██████████| 253/253 [03:05<00:00,  1.37it/s]\n"
     ]
    },
    {
     "name": "stdout",
     "output_type": "stream",
     "text": [
      "Validation loss decreased (0.437871 --> 0.435937). Saving model ...\n",
      "[  3/100] | train_loss: 0.322 | train_acc: 0.887 | val_loss: 0.436 | val_acc: 0.85\n"
     ]
    },
    {
     "name": "stderr",
     "output_type": "stream",
     "text": [
      "100%|██████████| 253/253 [03:05<00:00,  1.36it/s]\n"
     ]
    },
    {
     "name": "stdout",
     "output_type": "stream",
     "text": [
      "Validation loss decreased (0.435937 --> 0.423534). Saving model ...\n",
      "[  4/100] | train_loss: 0.306 | train_acc: 0.891 | val_loss: 0.424 | val_acc: 0.85\n"
     ]
    },
    {
     "name": "stderr",
     "output_type": "stream",
     "text": [
      "100%|██████████| 253/253 [03:05<00:00,  1.36it/s]\n"
     ]
    },
    {
     "name": "stdout",
     "output_type": "stream",
     "text": [
      "EarlyStopping counter: 1/5\n",
      "[  5/100] | train_loss: 0.294 | train_acc: 0.896 | val_loss: 0.432 | val_acc: 0.85\n"
     ]
    },
    {
     "name": "stderr",
     "output_type": "stream",
     "text": [
      "100%|██████████| 253/253 [03:05<00:00,  1.36it/s]\n"
     ]
    },
    {
     "name": "stdout",
     "output_type": "stream",
     "text": [
      "EarlyStopping counter: 2/5\n",
      "[  6/100] | train_loss: 0.284 | train_acc: 0.899 | val_loss: 0.457 | val_acc: 0.84\n"
     ]
    },
    {
     "name": "stderr",
     "output_type": "stream",
     "text": [
      "100%|██████████| 253/253 [03:05<00:00,  1.37it/s]\n"
     ]
    },
    {
     "name": "stdout",
     "output_type": "stream",
     "text": [
      "EarlyStopping counter: 3/5\n",
      "[  7/100] | train_loss: 0.273 | train_acc: 0.903 | val_loss: 0.445 | val_acc: 0.85\n"
     ]
    },
    {
     "name": "stderr",
     "output_type": "stream",
     "text": [
      "100%|██████████| 253/253 [03:05<00:00,  1.36it/s]\n"
     ]
    },
    {
     "name": "stdout",
     "output_type": "stream",
     "text": [
      "EarlyStopping counter: 4/5\n",
      "[  8/100] | train_loss: 0.260 | train_acc: 0.908 | val_loss: 0.461 | val_acc: 0.84\n"
     ]
    },
    {
     "name": "stderr",
     "output_type": "stream",
     "text": [
      "100%|██████████| 253/253 [03:05<00:00,  1.36it/s]\n"
     ]
    },
    {
     "name": "stdout",
     "output_type": "stream",
     "text": [
      "EarlyStopping counter: 5/5\n",
      "[  9/100] | train_loss: 0.254 | train_acc: 0.910 | val_loss: 0.483 | val_acc: 0.84\n",
      "Early stopping\n",
      "SSLNet weights saved to models/c24_rw.pt\n",
      "Training HMM\n",
      "Classifying windows...\n"
     ]
    },
    {
     "name": "stderr",
     "output_type": "stream",
     "text": [
      "100%|██████████| 67/67 [00:16<00:00,  4.15it/s]\n"
     ]
    },
    {
     "data": {
      "text/plain": [
       "<actinet.models.ActivityClassifier at 0x16860e28eb0>"
      ]
     },
     "execution_count": 5,
     "metadata": {},
     "output_type": "execute_result"
    }
   ],
   "source": [
    "classifier.fit(X, Y, pid, T, \"models/c24_rw.pt\")"
   ]
  },
  {
   "cell_type": "markdown",
   "metadata": {},
   "source": [
    "We now need to save the classifier as a .lzma file, that is uploaded to the internet for external use."
   ]
  },
  {
   "cell_type": "code",
   "execution_count": 6,
   "metadata": {},
   "outputs": [],
   "source": [
    "classifier_file_name = f\"models/ssl_ukb_c24_rw_{datetime.now().strftime('%Y%m%d')}.joblib.lzma\""
   ]
  },
  {
   "cell_type": "code",
   "execution_count": 7,
   "metadata": {},
   "outputs": [],
   "source": [
    "classifier.save(classifier_file_name)"
   ]
  },
  {
   "cell_type": "markdown",
   "metadata": {},
   "source": [
    "We load the saved classifier to ensure the expected behaviour"
   ]
  },
  {
   "cell_type": "code",
   "execution_count": 8,
   "metadata": {},
   "outputs": [
    {
     "name": "stdout",
     "output_type": "stream",
     "text": [
      "Activity Classifier\n",
      "class_labels: ['light' 'moderate-vigorous' 'sedentary' 'sleep']\n",
      "window_length: 30\n",
      "batch_size: 512\n",
      "device: cpu\n",
      "hmm: Hidden Markov Model\n",
      "prior: [0.19747338 0.04906083 0.39729389 0.35617191]\n",
      "emission: [[6.9318348e-01 7.3956624e-02 2.2419752e-01 8.6639896e-03]\n",
      " [4.3404096e-01 4.8588941e-01 7.6402329e-02 3.6681890e-03]\n",
      " [1.3217883e-01 7.2224061e-03 7.8012472e-01 8.0476902e-02]\n",
      " [5.3161164e-03 3.9428155e-04 6.0614076e-02 9.3367684e-01]]\n",
      "transition: [[9.65415651e-01 7.39807192e-03 2.71862776e-02 0.00000000e+00]\n",
      " [2.88154378e-02 9.66816611e-01 4.36795097e-03 0.00000000e+00]\n",
      " [1.25400384e-02 4.16399744e-04 9.87043562e-01 0.00000000e+00]\n",
      " [0.00000000e+00 0.00000000e+00 0.00000000e+00 1.00000000e+00]]\n",
      "labels: [0 1 2 3]\n",
      "model: Model has not been loaded.\n"
     ]
    }
   ],
   "source": [
    "loaded_classifier: ActivityClassifier = joblib.load(classifier_file_name)\n",
    "\n",
    "print(loaded_classifier)"
   ]
  },
  {
   "cell_type": "markdown",
   "metadata": {},
   "source": [
    "Note that model has not been loaded, however does have best weights dictionary saved."
   ]
  },
  {
   "cell_type": "markdown",
   "metadata": {},
   "source": [
    "We can load the model. When not specified, the model will load the ssl repository from github/cache."
   ]
  },
  {
   "cell_type": "code",
   "execution_count": 9,
   "metadata": {},
   "outputs": [
    {
     "name": "stdout",
     "output_type": "stream",
     "text": [
      "Using local c:\\Users\\AidenA\\Documents\\Projects\\actinet\\src\\actinet\\torch_hub_cache\\OxWearables_ssl-wearables_v1.0.0\n"
     ]
    }
   ],
   "source": [
    "loaded_classifier.load_model()"
   ]
  },
  {
   "cell_type": "markdown",
   "metadata": {},
   "source": [
    "Now we can confirm that the model has been loaded, and is ready to predict activity labels."
   ]
  },
  {
   "cell_type": "code",
   "execution_count": 10,
   "metadata": {},
   "outputs": [
    {
     "name": "stdout",
     "output_type": "stream",
     "text": [
      "Activity Classifier\n",
      "class_labels: ['light' 'moderate-vigorous' 'sedentary' 'sleep']\n",
      "window_length: 30\n",
      "batch_size: 512\n",
      "device: cpu\n",
      "hmm: Hidden Markov Model\n",
      "prior: [0.19747338 0.04906083 0.39729389 0.35617191]\n",
      "emission: [[6.9318348e-01 7.3956624e-02 2.2419752e-01 8.6639896e-03]\n",
      " [4.3404096e-01 4.8588941e-01 7.6402329e-02 3.6681890e-03]\n",
      " [1.3217883e-01 7.2224061e-03 7.8012472e-01 8.0476902e-02]\n",
      " [5.3161164e-03 3.9428155e-04 6.0614076e-02 9.3367684e-01]]\n",
      "transition: [[9.65415651e-01 7.39807192e-03 2.71862776e-02 0.00000000e+00]\n",
      " [2.88154378e-02 9.66816611e-01 4.36795097e-03 0.00000000e+00]\n",
      " [1.25400384e-02 4.16399744e-04 9.87043562e-01 0.00000000e+00]\n",
      " [0.00000000e+00 0.00000000e+00 0.00000000e+00 1.00000000e+00]]\n",
      "labels: [0 1 2 3]\n",
      "model: Resnet(\n",
      "  (feature_extractor): Sequential(\n",
      "    (layer1): Sequential(\n",
      "      (0): Conv1d(3, 64, kernel_size=(5,), stride=(1,), padding=(2,), bias=False, padding_mode=circular)\n",
      "      (1): ResBlock(\n",
      "        (bn1): BatchNorm1d(64, eps=1e-05, momentum=0.1, affine=True, track_running_stats=True)\n",
      "        (bn2): BatchNorm1d(64, eps=1e-05, momentum=0.1, affine=True, track_running_stats=True)\n",
      "        (conv1): Conv1d(64, 64, kernel_size=(5,), stride=(1,), padding=(2,), bias=False, padding_mode=circular)\n",
      "        (conv2): Conv1d(64, 64, kernel_size=(5,), stride=(1,), padding=(2,), bias=False, padding_mode=circular)\n",
      "        (relu): ReLU(inplace=True)\n",
      "      )\n",
      "      (2): ResBlock(\n",
      "        (bn1): BatchNorm1d(64, eps=1e-05, momentum=0.1, affine=True, track_running_stats=True)\n",
      "        (bn2): BatchNorm1d(64, eps=1e-05, momentum=0.1, affine=True, track_running_stats=True)\n",
      "        (conv1): Conv1d(64, 64, kernel_size=(5,), stride=(1,), padding=(2,), bias=False, padding_mode=circular)\n",
      "        (conv2): Conv1d(64, 64, kernel_size=(5,), stride=(1,), padding=(2,), bias=False, padding_mode=circular)\n",
      "        (relu): ReLU(inplace=True)\n",
      "      )\n",
      "      (3): BatchNorm1d(64, eps=1e-05, momentum=0.1, affine=True, track_running_stats=True)\n",
      "      (4): ReLU(inplace=True)\n",
      "      (5): Downsample()\n",
      "    )\n",
      "    (layer2): Sequential(\n",
      "      (0): Conv1d(64, 128, kernel_size=(5,), stride=(1,), padding=(2,), bias=False, padding_mode=circular)\n",
      "      (1): ResBlock(\n",
      "        (bn1): BatchNorm1d(128, eps=1e-05, momentum=0.1, affine=True, track_running_stats=True)\n",
      "        (bn2): BatchNorm1d(128, eps=1e-05, momentum=0.1, affine=True, track_running_stats=True)\n",
      "        (conv1): Conv1d(128, 128, kernel_size=(5,), stride=(1,), padding=(2,), bias=False, padding_mode=circular)\n",
      "        (conv2): Conv1d(128, 128, kernel_size=(5,), stride=(1,), padding=(2,), bias=False, padding_mode=circular)\n",
      "        (relu): ReLU(inplace=True)\n",
      "      )\n",
      "      (2): ResBlock(\n",
      "        (bn1): BatchNorm1d(128, eps=1e-05, momentum=0.1, affine=True, track_running_stats=True)\n",
      "        (bn2): BatchNorm1d(128, eps=1e-05, momentum=0.1, affine=True, track_running_stats=True)\n",
      "        (conv1): Conv1d(128, 128, kernel_size=(5,), stride=(1,), padding=(2,), bias=False, padding_mode=circular)\n",
      "        (conv2): Conv1d(128, 128, kernel_size=(5,), stride=(1,), padding=(2,), bias=False, padding_mode=circular)\n",
      "        (relu): ReLU(inplace=True)\n",
      "      )\n",
      "      (3): BatchNorm1d(128, eps=1e-05, momentum=0.1, affine=True, track_running_stats=True)\n",
      "      (4): ReLU(inplace=True)\n",
      "      (5): Downsample()\n",
      "    )\n",
      "    (layer3): Sequential(\n",
      "      (0): Conv1d(128, 256, kernel_size=(5,), stride=(1,), padding=(2,), bias=False, padding_mode=circular)\n",
      "      (1): ResBlock(\n",
      "        (bn1): BatchNorm1d(256, eps=1e-05, momentum=0.1, affine=True, track_running_stats=True)\n",
      "        (bn2): BatchNorm1d(256, eps=1e-05, momentum=0.1, affine=True, track_running_stats=True)\n",
      "        (conv1): Conv1d(256, 256, kernel_size=(5,), stride=(1,), padding=(2,), bias=False, padding_mode=circular)\n",
      "        (conv2): Conv1d(256, 256, kernel_size=(5,), stride=(1,), padding=(2,), bias=False, padding_mode=circular)\n",
      "        (relu): ReLU(inplace=True)\n",
      "      )\n",
      "      (2): ResBlock(\n",
      "        (bn1): BatchNorm1d(256, eps=1e-05, momentum=0.1, affine=True, track_running_stats=True)\n",
      "        (bn2): BatchNorm1d(256, eps=1e-05, momentum=0.1, affine=True, track_running_stats=True)\n",
      "        (conv1): Conv1d(256, 256, kernel_size=(5,), stride=(1,), padding=(2,), bias=False, padding_mode=circular)\n",
      "        (conv2): Conv1d(256, 256, kernel_size=(5,), stride=(1,), padding=(2,), bias=False, padding_mode=circular)\n",
      "        (relu): ReLU(inplace=True)\n",
      "      )\n",
      "      (3): BatchNorm1d(256, eps=1e-05, momentum=0.1, affine=True, track_running_stats=True)\n",
      "      (4): ReLU(inplace=True)\n",
      "      (5): Downsample()\n",
      "    )\n",
      "    (layer4): Sequential(\n",
      "      (0): Conv1d(256, 512, kernel_size=(5,), stride=(1,), padding=(2,), bias=False, padding_mode=circular)\n",
      "      (1): ResBlock(\n",
      "        (bn1): BatchNorm1d(512, eps=1e-05, momentum=0.1, affine=True, track_running_stats=True)\n",
      "        (bn2): BatchNorm1d(512, eps=1e-05, momentum=0.1, affine=True, track_running_stats=True)\n",
      "        (conv1): Conv1d(512, 512, kernel_size=(5,), stride=(1,), padding=(2,), bias=False, padding_mode=circular)\n",
      "        (conv2): Conv1d(512, 512, kernel_size=(5,), stride=(1,), padding=(2,), bias=False, padding_mode=circular)\n",
      "        (relu): ReLU(inplace=True)\n",
      "      )\n",
      "      (2): ResBlock(\n",
      "        (bn1): BatchNorm1d(512, eps=1e-05, momentum=0.1, affine=True, track_running_stats=True)\n",
      "        (bn2): BatchNorm1d(512, eps=1e-05, momentum=0.1, affine=True, track_running_stats=True)\n",
      "        (conv1): Conv1d(512, 512, kernel_size=(5,), stride=(1,), padding=(2,), bias=False, padding_mode=circular)\n",
      "        (conv2): Conv1d(512, 512, kernel_size=(5,), stride=(1,), padding=(2,), bias=False, padding_mode=circular)\n",
      "        (relu): ReLU(inplace=True)\n",
      "      )\n",
      "      (3): BatchNorm1d(512, eps=1e-05, momentum=0.1, affine=True, track_running_stats=True)\n",
      "      (4): ReLU(inplace=True)\n",
      "      (5): Downsample()\n",
      "    )\n",
      "    (layer5): Sequential(\n",
      "      (0): Conv1d(512, 1024, kernel_size=(5,), stride=(1,), padding=(2,), bias=False, padding_mode=circular)\n",
      "      (1): BatchNorm1d(1024, eps=1e-05, momentum=0.1, affine=True, track_running_stats=True)\n",
      "      (2): ReLU(inplace=True)\n",
      "      (3): Downsample()\n",
      "    )\n",
      "  )\n",
      "  (classifier): EvaClassifier(\n",
      "    (linear1): Linear(in_features=1024, out_features=512, bias=True)\n",
      "    (linear2): Linear(in_features=512, out_features=4, bias=True)\n",
      "  )\n",
      ")\n"
     ]
    }
   ],
   "source": [
    "print(loaded_classifier)"
   ]
  },
  {
   "cell_type": "markdown",
   "metadata": {},
   "source": [
    "This is useful function to get the md5 hash for the classifier file."
   ]
  },
  {
   "cell_type": "code",
   "execution_count": 11,
   "metadata": {},
   "outputs": [
    {
     "data": {
      "text/plain": [
       "'d1c0e25764b8ffc7b15cd850225bbfe2'"
      ]
     },
     "execution_count": 11,
     "metadata": {},
     "output_type": "execute_result"
    }
   ],
   "source": [
    "hashlib.md5(open(classifier_file_name,'rb').read()).hexdigest()"
   ]
  },
  {
   "cell_type": "code",
   "execution_count": 13,
   "metadata": {},
   "outputs": [
    {
     "data": {
      "text/plain": [
       "array(['light', 'moderate-vigorous', 'sedentary', 'sleep'], dtype='<U17')"
      ]
     },
     "execution_count": 13,
     "metadata": {},
     "output_type": "execute_result"
    }
   ],
   "source": [
    "np.unique(Y)"
   ]
  },
  {
   "cell_type": "code",
   "execution_count": 14,
   "metadata": {},
   "outputs": [
    {
     "data": {
      "text/plain": [
       "array([[nan, nan, nan],\n",
       "       [nan, nan, nan],\n",
       "       [nan, nan, nan],\n",
       "       ...,\n",
       "       [nan, nan, nan],\n",
       "       [nan, nan, nan],\n",
       "       [nan, nan, nan]])"
      ]
     },
     "execution_count": 14,
     "metadata": {},
     "output_type": "execute_result"
    }
   ],
   "source": [
    "np.full((900, 3), fill_value=np.nan)"
   ]
  },
  {
   "cell_type": "code",
   "execution_count": 18,
   "metadata": {},
   "outputs": [],
   "source": [
    "my_data = np.array([np.full((900, 3), fill_value=np.nan), np.full((900, 3), fill_value=np.nan)])"
   ]
  },
  {
   "cell_type": "code",
   "execution_count": 19,
   "metadata": {},
   "outputs": [
    {
     "name": "stdout",
     "output_type": "stream",
     "text": [
      "Classifying windows...\n"
     ]
    },
    {
     "name": "stderr",
     "output_type": "stream",
     "text": [
      "100%|██████████| 1/1 [00:00<00:00,  6.67it/s]\n"
     ]
    }
   ],
   "source": [
    "from actinet import sslmodel\n",
    "from torch.utils.data import DataLoader\n",
    "\n",
    "dataset = sslmodel.NormalDataset(my_data)\n",
    "dataloader = DataLoader(\n",
    "    dataset,\n",
    "    batch_size=100,\n",
    "    shuffle=False,\n",
    "    num_workers=0,\n",
    ")\n",
    "\n",
    "model = sslmodel.get_sslnet(\n",
    "    tag=\"v1.0.0\",\n",
    "    local_repo_path=\"C:/Users/AidenA/Documents/Python/ssl-wearables/\",\n",
    "    pretrained_weights=\"models/model_30s.pt\",\n",
    "    window_sec=30,\n",
    "    num_labels=4,\n",
    ")\n",
    "model.to(\"cpu\")\n",
    "\n",
    "_, y_pred, _ = sslmodel.predict(\n",
    "    model, dataloader, 'cpu', output_logits=False\n",
    ")"
   ]
  },
  {
   "cell_type": "code",
   "execution_count": 20,
   "metadata": {},
   "outputs": [
    {
     "data": {
      "text/plain": [
       "array([0, 0], dtype=int64)"
      ]
     },
     "execution_count": 20,
     "metadata": {},
     "output_type": "execute_result"
    }
   ],
   "source": [
    "y_pred"
   ]
  },
  {
   "cell_type": "code",
   "execution_count": null,
   "metadata": {},
   "outputs": [],
   "source": []
  },
  {
   "cell_type": "code",
   "execution_count": 22,
   "metadata": {},
   "outputs": [
    {
     "name": "stdout",
     "output_type": "stream",
     "text": [
      "Decompressing... Done! (1.03s)\n",
      "Reading file... Done! (11.90s)\n",
      "Converting to dataframe... Done! (3.57s)\n",
      "Getting stationary points... Done! (8.28s)\n",
      "Gravity calibration... Done! (7.80s)\n",
      "Nonwear detection... Done! (8.16s)\n",
      "Resampling... Done! (3.26s)\n"
     ]
    }
   ],
   "source": [
    "import actipy\n",
    "sample, info = actipy.read_device(\n",
    "    \"data/sample.cwa.gz\",\n",
    "    resample_hz=30,\n",
    "    verbose=True,\n",
    "    lowpass_hz=None,\n",
    "    calibrate_gravity=True,\n",
    "    detect_nonwear=True,\n",
    ")"
   ]
  },
  {
   "cell_type": "code",
   "execution_count": 51,
   "metadata": {},
   "outputs": [
    {
     "name": "stdout",
     "output_type": "stream",
     "text": [
      "Defining windows...\n"
     ]
    },
    {
     "data": {
      "application/vnd.jupyter.widget-view+json": {
       "model_id": "2651b5148dbe4dc8af6a17b5bc20b40f",
       "version_major": 2,
       "version_minor": 0
      },
      "text/plain": [
       "  0%|          | 0/16842 [00:00<?, ?it/s]"
      ]
     },
     "metadata": {},
     "output_type": "display_data"
    },
    {
     "name": "stdout",
     "output_type": "stream",
     "text": [
      "                                      x         y         z  temperature  \\\n",
      "time                                                                       \n",
      "2014-05-07 16:27:50.430000000 -0.513421 -0.071519 -0.886475    21.049999   \n",
      "2014-05-07 16:27:50.463333333 -0.497678 -0.040279 -0.870555    21.049999   \n",
      "2014-05-07 16:27:50.496666666 -0.544908  0.084680 -0.838715    21.049999   \n",
      "2014-05-07 16:27:50.530000000 -0.513421  0.147160 -0.950156    21.049999   \n",
      "2014-05-07 16:27:50.563333333 -0.812545  0.334600 -0.775034    21.049999   \n",
      "...                                 ...       ...       ...          ...   \n",
      "2014-05-07 16:28:20.263333333       NaN       NaN       NaN          NaN   \n",
      "2014-05-07 16:28:20.296666666       NaN       NaN       NaN          NaN   \n",
      "2014-05-07 16:28:20.330000000       NaN       NaN       NaN          NaN   \n",
      "2014-05-07 16:28:20.363333333       NaN       NaN       NaN          NaN   \n",
      "2014-05-07 16:28:20.396666666       NaN       NaN       NaN          NaN   \n",
      "\n",
      "                                   light  \n",
      "time                                      \n",
      "2014-05-07 16:27:50.430000000  71.346458  \n",
      "2014-05-07 16:27:50.463333333  71.346458  \n",
      "2014-05-07 16:27:50.496666666  71.346458  \n",
      "2014-05-07 16:27:50.530000000  71.346458  \n",
      "2014-05-07 16:27:50.563333333  71.346458  \n",
      "...                                  ...  \n",
      "2014-05-07 16:28:20.263333333        NaN  \n",
      "2014-05-07 16:28:20.296666666        NaN  \n",
      "2014-05-07 16:28:20.330000000        NaN  \n",
      "2014-05-07 16:28:20.363333333        NaN  \n",
      "2014-05-07 16:28:20.396666666        NaN  \n",
      "\n",
      "[900 rows x 5 columns]\n",
      "                                x   y   z  temperature  light\n",
      "time                                                         \n",
      "2014-05-07 16:28:20.430000000 NaN NaN NaN          NaN    NaN\n",
      "2014-05-07 16:28:20.463333333 NaN NaN NaN          NaN    NaN\n",
      "2014-05-07 16:28:20.496666666 NaN NaN NaN          NaN    NaN\n",
      "2014-05-07 16:28:20.530000000 NaN NaN NaN          NaN    NaN\n",
      "2014-05-07 16:28:20.563333333 NaN NaN NaN          NaN    NaN\n",
      "...                            ..  ..  ..          ...    ...\n",
      "2014-05-07 16:28:50.263333333 NaN NaN NaN          NaN    NaN\n",
      "2014-05-07 16:28:50.296666666 NaN NaN NaN          NaN    NaN\n",
      "2014-05-07 16:28:50.330000000 NaN NaN NaN          NaN    NaN\n",
      "2014-05-07 16:28:50.363333333 NaN NaN NaN          NaN    NaN\n",
      "2014-05-07 16:28:50.396666666 NaN NaN NaN          NaN    NaN\n",
      "\n",
      "[900 rows x 5 columns]\n",
      "                                x   y   z  temperature  light\n",
      "time                                                         \n",
      "2014-05-07 16:28:50.430000000 NaN NaN NaN          NaN    NaN\n",
      "2014-05-07 16:28:50.463333333 NaN NaN NaN          NaN    NaN\n",
      "2014-05-07 16:28:50.496666666 NaN NaN NaN          NaN    NaN\n",
      "2014-05-07 16:28:50.530000000 NaN NaN NaN          NaN    NaN\n",
      "2014-05-07 16:28:50.563333333 NaN NaN NaN          NaN    NaN\n",
      "...                            ..  ..  ..          ...    ...\n",
      "2014-05-07 16:29:20.263333333 NaN NaN NaN          NaN    NaN\n",
      "2014-05-07 16:29:20.296666666 NaN NaN NaN          NaN    NaN\n",
      "2014-05-07 16:29:20.330000000 NaN NaN NaN          NaN    NaN\n",
      "2014-05-07 16:29:20.363333333 NaN NaN NaN          NaN    NaN\n",
      "2014-05-07 16:29:20.396666666 NaN NaN NaN          NaN    NaN\n",
      "\n",
      "[900 rows x 5 columns]\n",
      "                                      x         y         z  temperature  \\\n",
      "time                                                                       \n",
      "2014-05-07 16:29:20.430000000       NaN       NaN       NaN          NaN   \n",
      "2014-05-07 16:29:20.463333333       NaN       NaN       NaN          NaN   \n",
      "2014-05-07 16:29:20.496666666       NaN       NaN       NaN          NaN   \n",
      "2014-05-07 16:29:20.530000000       NaN       NaN       NaN          NaN   \n",
      "2014-05-07 16:29:20.563333333       NaN       NaN       NaN          NaN   \n",
      "...                                 ...       ...       ...          ...   \n",
      "2014-05-07 16:29:50.263333333 -0.827955 -0.415919 -0.054790    21.799999   \n",
      "2014-05-07 16:29:50.296666666 -0.812212 -0.509639  0.056651    21.799999   \n",
      "2014-05-07 16:29:50.330000000 -0.906672 -0.462779  0.072571    21.799999   \n",
      "2014-05-07 16:29:50.363333333 -1.048362 -0.837658  0.120331    21.799999   \n",
      "2014-05-07 16:29:50.396666666 -1.127079 -0.166000  0.040731    21.799999   \n",
      "\n",
      "                                   light  \n",
      "time                                      \n",
      "2014-05-07 16:29:20.430000000        NaN  \n",
      "2014-05-07 16:29:20.463333333        NaN  \n",
      "2014-05-07 16:29:20.496666666        NaN  \n",
      "2014-05-07 16:29:20.530000000        NaN  \n",
      "2014-05-07 16:29:20.563333333        NaN  \n",
      "...                                  ...  \n",
      "2014-05-07 16:29:50.263333333  36.073208  \n",
      "2014-05-07 16:29:50.296666666  36.073208  \n",
      "2014-05-07 16:29:50.330000000  36.073208  \n",
      "2014-05-07 16:29:50.363333333  36.073208  \n",
      "2014-05-07 16:29:50.396666666  36.073208  \n",
      "\n",
      "[900 rows x 5 columns]\n",
      "                                      x         y         z  temperature  \\\n",
      "time                                                                       \n",
      "2014-05-13 09:50:20.430000000  0.194363  0.851580  0.443138    19.549999   \n",
      "2014-05-13 09:50:20.463333333  0.225850  0.882820  0.506818    19.549999   \n",
      "2014-05-13 09:50:20.496666667  0.257336  0.820340  0.506818    19.549999   \n",
      "2014-05-13 09:50:20.530000000  0.288823  0.835960  0.490898    19.549999   \n",
      "2014-05-13 09:50:20.563333333  0.194363  0.898440  0.459058    19.549999   \n",
      "...                                 ...       ...       ...          ...   \n",
      "2014-05-13 09:50:33.763333333  0.462067 -0.757428 -0.415781    19.700001   \n",
      "2014-05-13 09:50:33.796666667  0.414837 -0.757428 -0.431701    19.700001   \n",
      "2014-05-13 09:50:33.830000000  0.430580 -0.804288 -0.415781    19.700001   \n",
      "2014-05-13 09:50:33.863333333  0.399093 -0.757428 -0.463542    19.700001   \n",
      "2014-05-13 09:50:33.896666667  0.351863 -0.773048 -0.415781    19.700001   \n",
      "\n",
      "                                   light  \n",
      "time                                      \n",
      "2014-05-13 09:50:20.430000000  30.264843  \n",
      "2014-05-13 09:50:20.463333333  30.264843  \n",
      "2014-05-13 09:50:20.496666667  30.264843  \n",
      "2014-05-13 09:50:20.530000000  30.264843  \n",
      "2014-05-13 09:50:20.563333333  30.264843  \n",
      "...                                  ...  \n",
      "2014-05-13 09:50:33.763333333  30.061169  \n",
      "2014-05-13 09:50:33.796666667  30.061169  \n",
      "2014-05-13 09:50:33.830000000  30.061169  \n",
      "2014-05-13 09:50:33.863333333  30.061169  \n",
      "2014-05-13 09:50:33.896666667  30.061169  \n",
      "\n",
      "[405 rows x 5 columns]\n"
     ]
    }
   ],
   "source": [
    "import pandas as pd\n",
    "\n",
    "def is_good_window(x, window_len, revelant_columns = [\"x\", \"y\", \"z\"]):\n",
    "    \"\"\"\n",
    "    Check if a window is considered good based on its length and the presence of NaN values.\n",
    "\n",
    "    Args:\n",
    "        x (ndarray): Window data.\n",
    "        window_len (int): The index length of the data.\n",
    "\n",
    "    Returns:\n",
    "        bool: True if the window is considered good, False otherwise.\n",
    "\n",
    "    \"\"\"\n",
    "    # Check window length is correct\n",
    "    if len(x[revelant_columns]) != window_len:\n",
    "        return False\n",
    "\n",
    "    # Check no nans\n",
    "    if pd.isna(x[revelant_columns]).any(axis=None):\n",
    "        \n",
    "        return False\n",
    "\n",
    "    return True\n",
    "\n",
    "def make_windows(data, window_sec, return_index=False, verbose=True):\n",
    "    \"\"\"Split data into windows\"\"\"\n",
    "\n",
    "    if verbose:\n",
    "        print(\"Defining windows...\")\n",
    "\n",
    "    X, T = [], []\n",
    "    for t, x in tqdm(\n",
    "        data.resample(f\"{window_sec}s\", origin=\"start\"),\n",
    "        mininterval=5,\n",
    "        disable=not verbose,\n",
    "    ):\n",
    "        if not is_good_window(x, 900):\n",
    "            print(x)\n",
    "            continue\n",
    "\n",
    "        X.append(x)\n",
    "        T.append(t)\n",
    "\n",
    "    X = np.asarray(X)\n",
    "\n",
    "    if return_index:\n",
    "        T = pd.DatetimeIndex(T, name=data.index.name)\n",
    "        return X, T\n",
    "\n",
    "    return X\n",
    "\n",
    "X, T = make_windows(\n",
    "    sample, 30, return_index=True, verbose=True\n",
    ")"
   ]
  },
  {
   "cell_type": "code",
   "execution_count": 50,
   "metadata": {},
   "outputs": [
    {
     "data": {
      "text/plain": [
       "16837"
      ]
     },
     "execution_count": 50,
     "metadata": {},
     "output_type": "execute_result"
    }
   ],
   "source": [
    "len(X)"
   ]
  },
  {
   "cell_type": "code",
   "execution_count": 53,
   "metadata": {},
   "outputs": [
    {
     "data": {
      "text/html": [
       "<div>\n",
       "<style scoped>\n",
       "    .dataframe tbody tr th:only-of-type {\n",
       "        vertical-align: middle;\n",
       "    }\n",
       "\n",
       "    .dataframe tbody tr th {\n",
       "        vertical-align: top;\n",
       "    }\n",
       "\n",
       "    .dataframe thead th {\n",
       "        text-align: right;\n",
       "    }\n",
       "</style>\n",
       "<table border=\"1\" class=\"dataframe\">\n",
       "  <thead>\n",
       "    <tr style=\"text-align: right;\">\n",
       "      <th></th>\n",
       "      <th>x</th>\n",
       "      <th>y</th>\n",
       "      <th>z</th>\n",
       "      <th>temperature</th>\n",
       "      <th>light</th>\n",
       "    </tr>\n",
       "    <tr>\n",
       "      <th>time</th>\n",
       "      <th></th>\n",
       "      <th></th>\n",
       "      <th></th>\n",
       "      <th></th>\n",
       "      <th></th>\n",
       "    </tr>\n",
       "  </thead>\n",
       "  <tbody>\n",
       "    <tr>\n",
       "      <th>2014-05-08 04:00:00.030000000</th>\n",
       "      <td>-0.985922</td>\n",
       "      <td>0.007037</td>\n",
       "      <td>0.209710</td>\n",
       "      <td>20.60</td>\n",
       "      <td>3.259841</td>\n",
       "    </tr>\n",
       "    <tr>\n",
       "      <th>2014-05-08 04:00:00.063333333</th>\n",
       "      <td>-0.985922</td>\n",
       "      <td>0.007037</td>\n",
       "      <td>0.209710</td>\n",
       "      <td>20.60</td>\n",
       "      <td>3.259841</td>\n",
       "    </tr>\n",
       "    <tr>\n",
       "      <th>2014-05-08 04:00:00.096666666</th>\n",
       "      <td>-0.970179</td>\n",
       "      <td>0.007037</td>\n",
       "      <td>0.209710</td>\n",
       "      <td>20.60</td>\n",
       "      <td>3.259841</td>\n",
       "    </tr>\n",
       "    <tr>\n",
       "      <th>2014-05-08 04:00:00.130000000</th>\n",
       "      <td>-0.985922</td>\n",
       "      <td>0.007037</td>\n",
       "      <td>0.209710</td>\n",
       "      <td>20.60</td>\n",
       "      <td>3.259841</td>\n",
       "    </tr>\n",
       "    <tr>\n",
       "      <th>2014-05-08 04:00:00.163333333</th>\n",
       "      <td>-0.970179</td>\n",
       "      <td>0.007037</td>\n",
       "      <td>0.209710</td>\n",
       "      <td>20.60</td>\n",
       "      <td>3.259841</td>\n",
       "    </tr>\n",
       "    <tr>\n",
       "      <th>...</th>\n",
       "      <td>...</td>\n",
       "      <td>...</td>\n",
       "      <td>...</td>\n",
       "      <td>...</td>\n",
       "      <td>...</td>\n",
       "    </tr>\n",
       "    <tr>\n",
       "      <th>2014-05-08 05:00:00.863333333</th>\n",
       "      <td>-0.971179</td>\n",
       "      <td>0.009319</td>\n",
       "      <td>0.245954</td>\n",
       "      <td>18.35</td>\n",
       "      <td>3.281928</td>\n",
       "    </tr>\n",
       "    <tr>\n",
       "      <th>2014-05-08 05:00:00.896666666</th>\n",
       "      <td>-0.971179</td>\n",
       "      <td>0.009319</td>\n",
       "      <td>0.245954</td>\n",
       "      <td>18.35</td>\n",
       "      <td>3.281928</td>\n",
       "    </tr>\n",
       "    <tr>\n",
       "      <th>2014-05-08 05:00:00.930000000</th>\n",
       "      <td>-0.955435</td>\n",
       "      <td>0.009319</td>\n",
       "      <td>0.245954</td>\n",
       "      <td>18.35</td>\n",
       "      <td>3.281928</td>\n",
       "    </tr>\n",
       "    <tr>\n",
       "      <th>2014-05-08 05:00:00.963333333</th>\n",
       "      <td>-0.971179</td>\n",
       "      <td>0.009319</td>\n",
       "      <td>0.245954</td>\n",
       "      <td>18.35</td>\n",
       "      <td>3.281928</td>\n",
       "    </tr>\n",
       "    <tr>\n",
       "      <th>2014-05-08 05:00:00.996666666</th>\n",
       "      <td>-0.971179</td>\n",
       "      <td>0.009319</td>\n",
       "      <td>0.245954</td>\n",
       "      <td>18.35</td>\n",
       "      <td>3.281928</td>\n",
       "    </tr>\n",
       "  </tbody>\n",
       "</table>\n",
       "<p>108030 rows × 5 columns</p>\n",
       "</div>"
      ],
      "text/plain": [
       "                                      x         y         z  temperature  \\\n",
       "time                                                                       \n",
       "2014-05-08 04:00:00.030000000 -0.985922  0.007037  0.209710        20.60   \n",
       "2014-05-08 04:00:00.063333333 -0.985922  0.007037  0.209710        20.60   \n",
       "2014-05-08 04:00:00.096666666 -0.970179  0.007037  0.209710        20.60   \n",
       "2014-05-08 04:00:00.130000000 -0.985922  0.007037  0.209710        20.60   \n",
       "2014-05-08 04:00:00.163333333 -0.970179  0.007037  0.209710        20.60   \n",
       "...                                 ...       ...       ...          ...   \n",
       "2014-05-08 05:00:00.863333333 -0.971179  0.009319  0.245954        18.35   \n",
       "2014-05-08 05:00:00.896666666 -0.971179  0.009319  0.245954        18.35   \n",
       "2014-05-08 05:00:00.930000000 -0.955435  0.009319  0.245954        18.35   \n",
       "2014-05-08 05:00:00.963333333 -0.971179  0.009319  0.245954        18.35   \n",
       "2014-05-08 05:00:00.996666666 -0.971179  0.009319  0.245954        18.35   \n",
       "\n",
       "                                  light  \n",
       "time                                     \n",
       "2014-05-08 04:00:00.030000000  3.259841  \n",
       "2014-05-08 04:00:00.063333333  3.259841  \n",
       "2014-05-08 04:00:00.096666666  3.259841  \n",
       "2014-05-08 04:00:00.130000000  3.259841  \n",
       "2014-05-08 04:00:00.163333333  3.259841  \n",
       "...                                 ...  \n",
       "2014-05-08 05:00:00.863333333  3.281928  \n",
       "2014-05-08 05:00:00.896666666  3.281928  \n",
       "2014-05-08 05:00:00.930000000  3.281928  \n",
       "2014-05-08 05:00:00.963333333  3.281928  \n",
       "2014-05-08 05:00:00.996666666  3.281928  \n",
       "\n",
       "[108030 rows x 5 columns]"
      ]
     },
     "execution_count": 53,
     "metadata": {},
     "output_type": "execute_result"
    }
   ],
   "source": [
    "sample.loc[\"2014-05-08 04:00:00\":\"2014-05-08 05:00:00\"]"
   ]
  },
  {
   "cell_type": "code",
   "execution_count": null,
   "metadata": {},
   "outputs": [],
   "source": []
  }
 ],
 "metadata": {
  "kernelspec": {
   "display_name": "actinet",
   "language": "python",
   "name": "python3"
  },
  "language_info": {
   "codemirror_mode": {
    "name": "ipython",
    "version": 3
   },
   "file_extension": ".py",
   "mimetype": "text/x-python",
   "name": "python",
   "nbconvert_exporter": "python",
   "pygments_lexer": "ipython3",
   "version": "3.9.12"
  }
 },
 "nbformat": 4,
 "nbformat_minor": 2
}
