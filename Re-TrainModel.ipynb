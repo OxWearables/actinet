{
 "cells": [
  {
   "cell_type": "markdown",
   "id": "cca13976",
   "metadata": {},
   "source": [
    "# Re-training of ActiNet model using existing old model\n",
    "\n",
    "This notebook shows how to re-train the ActiNet model for deployment, given an existing model."
   ]
  },
  {
   "cell_type": "code",
   "execution_count": null,
   "id": "da176333",
   "metadata": {},
   "outputs": [],
   "source": [
    "import joblib\n",
    "from datetime import datetime\n",
    "import hashlib\n",
    "\n",
    "from actinet.actinet import read\n",
    "from actinet.accPlot import plotTimeSeries\n",
    "from actinet.models import ActivityClassifier\n",
    "\n",
    "WINSEC = 30 # seconds\n",
    "SAMPLE_RATE = 100 # Hz\n",
    "N_JOBS = 8 # Set to higher number for quicker execution, but don't exceed max.\n",
    "\n",
    "existing_classifier_path = \"src/actinet/ssl-ukb-c24-rw-20240308.joblib.lzma\""
   ]
  },
  {
   "cell_type": "code",
   "execution_count": null,
   "id": "678598b3",
   "metadata": {},
   "outputs": [],
   "source": [
    "classifier = ActivityClassifier(\n",
    "    batch_size=512,\n",
    "    device=\"cpu\",\n",
    "    window_sec=WINSEC,\n",
    "    verbose=True,\n",
    "    weights_path=\"models/c24_rw_20240308.pt\"\n",
    ")\n",
    "\n",
    "print(classifier)"
   ]
  },
  {
   "cell_type": "code",
   "execution_count": null,
   "id": "f7fb2683",
   "metadata": {},
   "outputs": [],
   "source": [
    "classifier_file_name = f\"models/ssl-ukb-c24-rw-{WINSEC}s-{datetime.now().strftime('%Y%m%d')}.joblib.lzma\""
   ]
  },
  {
   "cell_type": "code",
   "execution_count": null,
   "id": "6c4436bb",
   "metadata": {},
   "outputs": [],
   "source": [
    "old_classifier: ActivityClassifier = joblib.load(existing_classifier_path)"
   ]
  },
  {
   "cell_type": "code",
   "execution_count": null,
   "id": "20c4511e",
   "metadata": {},
   "outputs": [],
   "source": [
    "classifier.labels = old_classifier.labels\n",
    "classifier.hmms = old_classifier.hmms\n",
    "classifier.model_weights = old_classifier.model_weights"
   ]
  },
  {
   "cell_type": "code",
   "execution_count": null,
   "id": "3b6383ca",
   "metadata": {},
   "outputs": [],
   "source": [
    "classifier.save(classifier_file_name)"
   ]
  },
  {
   "cell_type": "markdown",
   "id": "35f9cb22",
   "metadata": {},
   "source": [
    "We load the saved classifier to ensure the expected behaviour"
   ]
  },
  {
   "cell_type": "code",
   "execution_count": null,
   "id": "24e60291",
   "metadata": {},
   "outputs": [],
   "source": [
    "loaded_classifier: ActivityClassifier = joblib.load(classifier_file_name)\n",
    "\n",
    "print(loaded_classifier)"
   ]
  },
  {
   "cell_type": "code",
   "execution_count": null,
   "id": "bd41777b",
   "metadata": {},
   "outputs": [],
   "source": [
    "loaded_classifier.load_model()"
   ]
  },
  {
   "cell_type": "code",
   "execution_count": null,
   "id": "538df97c",
   "metadata": {},
   "outputs": [],
   "source": [
    "hashlib.md5(open(classifier_file_name,'rb').read()).hexdigest()"
   ]
  },
  {
   "cell_type": "code",
   "execution_count": null,
   "id": "1ab7563f",
   "metadata": {},
   "outputs": [],
   "source": [
    "data, info = read(\"data/sample.cwa.gz\", resample_hz=None, verbose=True)"
   ]
  },
  {
   "cell_type": "code",
   "execution_count": null,
   "id": "342dda28",
   "metadata": {},
   "outputs": [],
   "source": [
    "y = loaded_classifier.predict_from_frame(data, 100, True, None, False)\n",
    "p = plotTimeSeries(y, \"Keep naps, no minimum sleep duration\")"
   ]
  },
  {
   "cell_type": "code",
   "execution_count": null,
   "id": "eefc79ef",
   "metadata": {},
   "outputs": [],
   "source": [
    "y = loaded_classifier.predict_from_frame(data, 100, True,'5H', True)\n",
    "p = plotTimeSeries(y, \"Single sleep block per day, minimum 5 hour sleep\")"
   ]
  },
  {
   "cell_type": "code",
   "execution_count": null,
   "id": "42347e48",
   "metadata": {},
   "outputs": [],
   "source": [
    "y = loaded_classifier.predict_from_frame(data, 100, True, '45min', False)\n",
    "p = plotTimeSeries(y, \"Keep naps, minimum 45 min sleep\")"
   ]
  }
 ],
 "metadata": {
  "kernelspec": {
   "display_name": "actinet",
   "language": "python",
   "name": "python3"
  },
  "language_info": {
   "codemirror_mode": {
    "name": "ipython",
    "version": 3
   },
   "file_extension": ".py",
   "mimetype": "text/x-python",
   "name": "python",
   "nbconvert_exporter": "python",
   "pygments_lexer": "ipython3",
   "version": "3.9.18"
  }
 },
 "nbformat": 4,
 "nbformat_minor": 5
}
